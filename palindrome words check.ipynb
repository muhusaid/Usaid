{
  "nbformat": 4,
  "nbformat_minor": 0,
  "metadata": {
    "colab": {
      "name": "Untitled0.ipynb",
      "provenance": [],
      "authorship_tag": "ABX9TyNVni1/JW/l/IdM4dfL06I7",
      "include_colab_link": true
    },
    "kernelspec": {
      "name": "python3",
      "display_name": "Python 3"
    }
  },
  "cells": [
    {
      "cell_type": "markdown",
      "metadata": {
        "id": "view-in-github",
        "colab_type": "text"
      },
      "source": [
        "<a href=\"https://colab.research.google.com/github/muhusaid/Usaid/blob/master/palindrome%20words%20check.ipynb\" target=\"_parent\"><img src=\"https://colab.research.google.com/assets/colab-badge.svg\" alt=\"Open In Colab\"/></a>"
      ]
    },
    {
      "cell_type": "code",
      "metadata": {
        "id": "CnXrLuwn4Zhf",
        "colab_type": "code",
        "colab": {
          "base_uri": "https://localhost:8080/",
          "height": 51
        },
        "outputId": "b9ec3c2f-bf3b-4be0-a800-071adf27d084"
      },
      "source": [
        "def is_Palindrome(a):\n",
        "  b=len(a)\n",
        "  c1=0\n",
        "  c2=0\n",
        "  for i in range(0,len(a),1):\n",
        "    b = b-1\n",
        "    if(a[i]==a[b]):\n",
        "      c1=c1+1\n",
        "    else:\n",
        "      c2=c2+1\n",
        "  if(c1==len(a)):\n",
        "    return True\n",
        "  else:\n",
        "    return False\n",
        "a = input(\"Enter any word \")\n",
        "print (is_Palindrome(a))"
      ],
      "execution_count": 106,
      "outputs": [
        {
          "output_type": "stream",
          "text": [
            "Enter any word Ali\n",
            "False\n"
          ],
          "name": "stdout"
        }
      ]
    },
    {
      "cell_type": "code",
      "metadata": {
        "id": "M9YV9sYj6ptA",
        "colab_type": "code",
        "colab": {
          "base_uri": "https://localhost:8080/",
          "height": 51
        },
        "outputId": "11292775-1eec-4538-e7ba-9a0cda859094"
      },
      "source": [
        "def is_Palindrome(num):\n",
        "  b=len(num)\n",
        "  flag = 0\n",
        "  for i in range(int(len(num)/2)):\n",
        "    b = b-1\n",
        "    if(num[i]!=num[b]):\n",
        "      return False\n",
        "  return True\n",
        "word = input(\"Enter the Word \")\n",
        "print(is_Palindrome(word))\n"
      ],
      "execution_count": 103,
      "outputs": [
        {
          "output_type": "stream",
          "text": [
            "Enter the Word tibet\n",
            "False\n"
          ],
          "name": "stdout"
        }
      ]
    },
    {
      "cell_type": "code",
      "metadata": {
        "id": "fobAQfJSO4mH",
        "colab_type": "code",
        "colab": {
          "base_uri": "https://localhost:8080/",
          "height": 51
        },
        "outputId": "b9cddbeb-f301-4f88-d001-f8721d1c38d6"
      },
      "source": [
        "def is_Palindrome(a):\n",
        "  b=len(a)\n",
        "  flag=0\n",
        "  c2=0\n",
        "  for i in range(0,len(a),1):\n",
        "    b = b-1\n",
        "    if(a[i]!=a[b]):\n",
        "      flag=1\n",
        "    \n",
        "  if(flag==0):\n",
        "    return True\n",
        "  else:\n",
        "    return False\n",
        "a = input(\"Enter any word \")\n",
        "print (is_Palindrome(a))"
      ],
      "execution_count": 105,
      "outputs": [
        {
          "output_type": "stream",
          "text": [
            "Enter any word tibit\n",
            "True\n"
          ],
          "name": "stdout"
        }
      ]
    }
  ]
}