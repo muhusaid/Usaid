{
  "nbformat": 4,
  "nbformat_minor": 0,
  "metadata": {
    "colab": {
      "name": "Exercises: Conditional Operators.ipynb",
      "provenance": [],
      "authorship_tag": "ABX9TyMLLdwl6Z0rxJlYSu/HUESo",
      "include_colab_link": true
    },
    "kernelspec": {
      "name": "python3",
      "display_name": "Python 3"
    }
  },
  "cells": [
    {
      "cell_type": "markdown",
      "metadata": {
        "id": "view-in-github",
        "colab_type": "text"
      },
      "source": [
        "<a href=\"https://colab.research.google.com/github/muhusaid/Usaid/blob/master/Exercises_Conditional_Operators.ipynb\" target=\"_parent\"><img src=\"https://colab.research.google.com/assets/colab-badge.svg\" alt=\"Open In Colab\"/></a>"
      ]
    },
    {
      "cell_type": "markdown",
      "metadata": {
        "colab_type": "text",
        "id": "ssvHck0UG2g0"
      },
      "source": [
        "**Exercise 1**\n",
        "\n",
        "*Find whether the sum of two numbers is greater than 50. (user input)*"
      ]
    },
    {
      "cell_type": "code",
      "metadata": {
        "id": "c9DV17v8GOeB",
        "colab_type": "code",
        "colab": {
          "base_uri": "https://localhost:8080/",
          "height": 68
        },
        "outputId": "1166a4cc-1699-4440-c7cb-a78c050a007b"
      },
      "source": [
        "n1 = int(input(\"Enter the 1st Number : \"))\n",
        "n2 = int(input(\"Enter the 2nd Number : \"))\n",
        "if((n1+n2)>50):\n",
        "  print (\"The sum of 2 given numbers are greater than 50, which is\",(n1+n2))\n",
        "elif((n1+n2)==50):\n",
        "  print (\"The sum of 2 given numbers are equal to 50, which is\",(n1+n2))\n",
        "else:\n",
        "  print (\"The sum of 2 given numbers are less than to 50, which is\",(n1+n2))\n"
      ],
      "execution_count": 3,
      "outputs": [
        {
          "output_type": "stream",
          "text": [
            "Enter the 1st Number : 41\n",
            "Enter the 2nd Number : 45\n",
            "The sum of 2 given numbers are greater than 50, which is 86\n"
          ],
          "name": "stdout"
        }
      ]
    },
    {
      "cell_type": "markdown",
      "metadata": {
        "colab_type": "text",
        "id": "C9Z9eA0RG2_u"
      },
      "source": [
        "**Exercise 2**\n",
        "\n",
        "*Determine and Output Whether Number N is Even or Odd. (user input)*"
      ]
    },
    {
      "cell_type": "code",
      "metadata": {
        "colab_type": "code",
        "id": "v1jM779FHMOx",
        "colab": {
          "base_uri": "https://localhost:8080/",
          "height": 51
        },
        "outputId": "120dc6bf-81c7-410f-fdfa-d1c4474882ff"
      },
      "source": [
        "num = int(input(\"Enter the Number : \"))\n",
        "if(num&1):\n",
        "  print (\"The number is Odd\")\n",
        "else:\n",
        "  print (\"The number is Even\")"
      ],
      "execution_count": 6,
      "outputs": [
        {
          "output_type": "stream",
          "text": [
            "Enter the Number : 4587\n",
            "The number is Odd\n"
          ],
          "name": "stdout"
        }
      ]
    },
    {
      "cell_type": "markdown",
      "metadata": {
        "colab_type": "text",
        "id": "c6h4IAyeG3Ha"
      },
      "source": [
        "**Exercise 3**\n",
        "\n",
        "*Find the MAX among three numbers. (user input)*"
      ]
    },
    {
      "cell_type": "code",
      "metadata": {
        "colab_type": "code",
        "id": "mDpNHI17HNmM",
        "colab": {
          "base_uri": "https://localhost:8080/",
          "height": 85
        },
        "outputId": "b2d2dfaf-3c81-408c-aabb-e0428d0755d9"
      },
      "source": [
        "n1 = int(input(\"Enter the 1st Number : \"))\n",
        "n2 = int(input(\"Enter the 2nd Number : \"))\n",
        "n3 = int(input(\"Enter the 3rd Number : \"))\n",
        "if(n1>(n2 and n3)):\n",
        "  print (\"The\",n1,\"is greater amoung others\")\n",
        "elif(n2>(n1 and n3)):\n",
        "  print (\"The\",n2,\"is greater amoung others\")\n",
        "elif(n3>(n1 and n2)):\n",
        "  print (\"The\",n3,\"is greater amoung others\")\n",
        "else:\n",
        "  print (\"All given numbers are equal\")"
      ],
      "execution_count": 8,
      "outputs": [
        {
          "output_type": "stream",
          "text": [
            "Enter the 1st Number : 50\n",
            "Enter the 2nd Number : 50\n",
            "Enter the 3rd Number : 50\n",
            "All given numbers are equal\n"
          ],
          "name": "stdout"
        }
      ]
    },
    {
      "cell_type": "markdown",
      "metadata": {
        "id": "fqZEtGy5GkqK",
        "colab_type": "text"
      },
      "source": [
        "**Exercise 4**\n",
        "\n",
        "*Write a program to find if the year is Leap year or not?*"
      ]
    },
    {
      "cell_type": "code",
      "metadata": {
        "colab_type": "code",
        "id": "ded0htttHOM_",
        "colab": {
          "base_uri": "https://localhost:8080/",
          "height": 51
        },
        "outputId": "69f57e19-b2b7-4026-d882-1dcf24831e7b"
      },
      "source": [
        "year = int(input(\"Enter the Year : \"))\n",
        "if((year%4)==0 and (year%100)!=0 or (year%400)==0):\n",
        "  print (\"This is leap year\")\n",
        "else:\n",
        "  print (\"This is not leap year\")"
      ],
      "execution_count": 31,
      "outputs": [
        {
          "output_type": "stream",
          "text": [
            "Enter the Year : 2020\n",
            "This is leap year\n"
          ],
          "name": "stdout"
        }
      ]
    },
    {
      "cell_type": "markdown",
      "metadata": {
        "colab_type": "text",
        "id": "yI9ec1pRHZx8"
      },
      "source": [
        "**Exercise 5**\n",
        "\n",
        "*Modify Exercise 9 of Lab-05 to take input from user 2 numbers and an operator. If the operator\n",
        "is ‘+’ sign add the two numbers. If the operator is ‘-’ sign, subtract the two numbers. Do the\n",
        "same for *, / and %.*"
      ]
    },
    {
      "cell_type": "code",
      "metadata": {
        "colab_type": "code",
        "id": "nmks9XitHZyD",
        "colab": {
          "base_uri": "https://localhost:8080/",
          "height": 170
        },
        "outputId": "9d1e1f8f-c1ae-460f-e7bb-87231a8525a2"
      },
      "source": [
        "n1 = int(input(\"Enter the 1st Number : \"))\n",
        "n2 = int(input(\"Enter the 2nd Number : \"))\n",
        "choose = int(input(\"Choose the option from the list\\n 1 for Add\\n 2 for Sub\\n 3 for Mul\\n 4 for Div\\n\"))\n",
        "while(choose>=5 and choose<=0):\n",
        "  choose = int(input(\"Choose the correct option from the list\\n 1 for Add\\n 2 for Sub\\n 3 for Mul\\n 4 for Div\\n\"))\n",
        "if(choose==1):\n",
        "  print (\"The sum of\",n1,\"+\",n2,\"is equal to\",(n1+n2))\n",
        "elif(choose==2):\n",
        "  print (\"The subraction of\",n1,\"-\",n2,\"is equal to\",(n1-n2))\n",
        "elif(choose==3):\n",
        "  print (\"The product of\",n1,\"x\",n2,\"is equal to\",(n1*n2))\n",
        "else:\n",
        "  print (\"The division of\",n1,\"/\",n2,\"is equal to\",(n1/n2))"
      ],
      "execution_count": 37,
      "outputs": [
        {
          "output_type": "stream",
          "text": [
            "Enter the 1st Number : 47\n",
            "Enter the 2nd Number : 48\n",
            "Choose the option from the list\n",
            " 1 for Add\n",
            " 2 for Sub\n",
            " 3 for Mul\n",
            " 4 for Div\n",
            "4\n",
            "The division of 47 / 48 is equal to 0.9791666666666666\n"
          ],
          "name": "stdout"
        }
      ]
    },
    {
      "cell_type": "markdown",
      "metadata": {
        "colab_type": "text",
        "id": "S0gTHsSvHkJz"
      },
      "source": [
        "**Exercise 6**\n",
        "\n",
        "*Modify Excrcise 7 of Lab-05 to include gradings for the student using the following criteria.*"
      ]
    },
    {
      "cell_type": "code",
      "metadata": {
        "colab_type": "code",
        "id": "aX5WMRXTHkKC",
        "colab": {
          "base_uri": "https://localhost:8080/",
          "height": 119
        },
        "outputId": "fe2871dc-0da6-4b70-eaa4-63f04c7b8d70"
      },
      "source": [
        "sci = int(input(\"Enter your Science marks : \"))\n",
        "chem = int(input(\"Enter your Chemistry marks : \"))\n",
        "phy = int(input(\"Enter your Physics marks : \"))\n",
        "com = int(input(\"Enter your Computer marks : \"))\n",
        "math = int(input(\"Enter your Maths marks : \"))\n",
        "total = (sci+chem+phy+com+math)\n",
        "per = (total/500)*100\n",
        "if(per>=80):\n",
        "  print (\"You recive A+ grade with\",total,\"marks out of 500\")\n",
        "elif(80>per>=75):\n",
        "  print (\"You recive A grade with\",total,\"marks out of 500\")\n",
        "elif(75>per>=70):\n",
        "  print (\"You recive A- grade with\",total,\"marks out of 500\")\n",
        "elif(70>per>=65):\n",
        "  print (\"You recive B+ grade with\",total,\"marks out of 500\")\n",
        "elif(65>per>=60):\n",
        "  print (\"You recive B grade with\",total,\"marks out of 500\")\n",
        "elif(60>per>=55):\n",
        "  print (\"You recive B- grade with\",total,\"marks out of 500\")\n",
        "elif(55>per>=50):\n",
        "  print (\"You recive C+ grade with\",total,\"marks out of 500\")\n",
        "elif(50>per>=45):\n",
        "  print (\"You recive C- grade with\",total,\"marks out of 500\")\n",
        "elif(45>per>=40):\n",
        "  print (\"You recive D grade with\",total,\"marks out of 500\")\n",
        "else:\n",
        "  print (\"You recive F grade with\",total,\"marks out of 500\")"
      ],
      "execution_count": 43,
      "outputs": [
        {
          "output_type": "stream",
          "text": [
            "Enter your Science marks : 98\n",
            "Enter your Chemistry marks : 87\n",
            "Enter your Physics marks : 78\n",
            "Enter your Computer marks : 69\n",
            "Enter your Maths marks : 78\n",
            "You recive A+ grade with 410 marks out of 500\n"
          ],
          "name": "stdout"
        }
      ]
    },
    {
      "cell_type": "markdown",
      "metadata": {
        "colab_type": "text",
        "id": "4grg_6KIHkme"
      },
      "source": [
        "**Exercise 7**\n",
        "\n",
        "*Write a Program that read an alphabet (e.g. a,b,c,d,.....z) and display whether the input alphabet\n",
        "is a vowel (i.e. a, e, i, o, u) or consonant.*"
      ]
    },
    {
      "cell_type": "code",
      "metadata": {
        "id": "oMzc3-l7ipCy",
        "colab_type": "code",
        "colab": {
          "base_uri": "https://localhost:8080/",
          "height": 51
        },
        "outputId": "3baa59bf-8ffd-4e72-e8ae-fa7681bb9be4"
      },
      "source": [
        "alpa = input(\"Enter a alphabet : \")\n",
        "if (alpa==\"a\"or alpa==\"e\" or alpa==\"i\"or alpa==\"o\"or alpa==\"u\" or alpa==\"A\"or alpa==\"E\"or alpa==\"I\"or alpa==\"O\"or alpa==\"U\"):\n",
        "  print (\"This is Vowel\")\n",
        "else:\n",
        "  print (\"This is Consonant\")"
      ],
      "execution_count": 68,
      "outputs": [
        {
          "output_type": "stream",
          "text": [
            "Enter a alphabet : k\n",
            "This is Consonant\n"
          ],
          "name": "stdout"
        }
      ]
    },
    {
      "cell_type": "code",
      "metadata": {
        "colab_type": "code",
        "id": "nYzf93vZHkmi",
        "colab": {
          "base_uri": "https://localhost:8080/",
          "height": 51
        },
        "outputId": "6bed4b0e-b735-406e-c348-5bc0a52df953"
      },
      "source": [
        "word = input(\"Enter a word : \")\n",
        "count = 0\n",
        "for i in range(0,len(word),1):\n",
        "  if(word[i]=='a'or word[i]=='e'or word[i]=='i'or word[i]=='o'or word[i]=='u' or word[i]=='A'or word[i]=='E'or word[i]=='I'or word[i]=='O'or word[i]=='U'):\n",
        "    count = count+1\n",
        "print (\"The given word has\",count,\"vowels and\",(len(word)-count),\"consonant\")"
      ],
      "execution_count": 57,
      "outputs": [
        {
          "output_type": "stream",
          "text": [
            "Enter a word : Alphabet\n",
            "The given word has 3 vowels and 5 consonant\n"
          ],
          "name": "stdout"
        }
      ]
    },
    {
      "cell_type": "markdown",
      "metadata": {
        "colab_type": "text",
        "id": "VuULF40hHm5i"
      },
      "source": [
        "**Exercise 8**\n",
        "\n",
        "*Write a Program that read an integer input in between (1 to 12) and store it month_of_year. Print\n",
        "the corresponding month of year. Use else if statement.*"
      ]
    },
    {
      "cell_type": "code",
      "metadata": {
        "colab_type": "code",
        "id": "hpt-OvlkHm5l",
        "colab": {
          "base_uri": "https://localhost:8080/",
          "height": 68
        },
        "outputId": "5c5ec1fa-ca38-4433-e1a2-3cd13c556fe3"
      },
      "source": [
        "month = int(input(\"Enter a number between (1 to 12) : \"))\n",
        "while(month>=13 or month<=0):\n",
        "  month = int(input(\"Reenter a number between (1 to 12) : \"))\n",
        "if(month==1):\n",
        "  print (\"This is January\")\n",
        "elif(month==2):\n",
        "  print (\"This is Febuary\")\n",
        "elif(month==3):\n",
        "  print (\"This is March\")\n",
        "elif(month==4):\n",
        "  print (\"This is April\")\n",
        "elif(month==5):\n",
        "  print (\"This is May\")\n",
        "elif(month==6):\n",
        "  print (\"This is June\")\n",
        "elif(month==7):\n",
        "  print (\"This is July\")\n",
        "elif(month==8):\n",
        "  print (\"This is August\")\n",
        "elif(month==9):\n",
        "  print (\"This is Septemer\")\n",
        "elif(month==10):\n",
        "  print (\"This is October\")\n",
        "elif(month==11):\n",
        "  print (\"This is November\")\n",
        "else:\n",
        "  print (\"This is December\")"
      ],
      "execution_count": 69,
      "outputs": [
        {
          "output_type": "stream",
          "text": [
            "Enter a number between (1 to 12) : 14\n",
            "Reenter a number between (1 to 12) : 12\n",
            "This is December\n"
          ],
          "name": "stdout"
        }
      ]
    }
  ]
}